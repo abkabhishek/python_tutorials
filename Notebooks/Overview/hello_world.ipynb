{
 "cells": [
  {
   "cell_type": "markdown",
   "id": "promotional-caribbean",
   "metadata": {},
   "source": [
    "### Using the Python Interpreter\n",
    "\n",
    "The Python interpreter is usually installed at default path.\n",
    "\n",
    "Example:\n",
    "Linux/Mac - '/usr/local/bin/python3.9'\n",
    "Windows - 'C:\\Users\\user-name\\AppData\\Local\\Programs\\Python\\Python-version'\n",
    "\n",
    "putting that installed path dir (example /usr/local/bin) in your Unix shell’s search path makes it possible to start it by typing the following command in terminal:\n",
    "\n"
   ]
  },
  {
   "cell_type": "raw",
   "id": "serious-shadow",
   "metadata": {},
   "source": [
    "$ python --version\n",
    "Python 3.8.5"
   ]
  },
  {
   "cell_type": "raw",
   "id": "municipal-alliance",
   "metadata": {},
   "source": [
    "(tutenv) Abhisheks-MBP-2:Overview abk$ python\n",
    "Python 3.8.5 (v3.8.5:580fbb018f, Jul 20 2020, 12:11:27) \n",
    "[Clang 6.0 (clang-600.0.57)] on darwin\n",
    "Type \"help\", \"copyright\", \"credits\" or \"license\" for more information.\n",
    ">>> print(\"hello\")\n",
    "hello\n",
    ">>> "
   ]
  },
  {
   "cell_type": "code",
   "execution_count": null,
   "id": "mexican-milwaukee",
   "metadata": {},
   "outputs": [],
   "source": []
  }
 ],
 "metadata": {
  "kernelspec": {
   "display_name": "Python 3",
   "language": "python",
   "name": "python3"
  },
  "language_info": {
   "codemirror_mode": {
    "name": "ipython",
    "version": 3
   },
   "file_extension": ".py",
   "mimetype": "text/x-python",
   "name": "python",
   "nbconvert_exporter": "python",
   "pygments_lexer": "ipython3",
   "version": "3.8.5"
  },
  "toc-autonumbering": false,
  "toc-showmarkdowntxt": false,
  "toc-showtags": true
 },
 "nbformat": 4,
 "nbformat_minor": 5
}
